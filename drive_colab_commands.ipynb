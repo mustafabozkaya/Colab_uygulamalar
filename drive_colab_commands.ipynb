{
  "nbformat": 4,
  "nbformat_minor": 0,
  "metadata": {
    "colab": {
      "name": "drive_colab_commands.ipynb",
      "provenance": [],
      "collapsed_sections": [],
      "authorship_tag": "ABX9TyMyXeuQuOPp/CxL+VOU2WLY",
      "include_colab_link": true
    },
    "kernelspec": {
      "name": "python3",
      "display_name": "Python 3"
    },
    "language_info": {
      "name": "python"
    },
    "accelerator": "GPU"
  },
  "cells": [
    {
      "cell_type": "markdown",
      "metadata": {
        "id": "view-in-github",
        "colab_type": "text"
      },
      "source": [
        "<a href=\"https://colab.research.google.com/github/mustafabozkaya/Colab_uygulamalar/blob/main/drive_colab_commands.ipynb\" target=\"_parent\"><img src=\"https://colab.research.google.com/assets/colab-badge.svg\" alt=\"Open In Colab\"/></a>"
      ]
    },
    {
      "cell_type": "code",
      "metadata": {
        "id": "x-fbdEybnm1F"
      },
      "source": [
        "#https://www.tutorialspoint.com/google_colab/google_colab_quick_guide.htm\n",
        "#https://neptune.ai/blog/google-colab-dealing-with-files"
      ],
      "execution_count": null,
      "outputs": []
    },
    {
      "cell_type": "code",
      "metadata": {
        "colab": {
          "base_uri": "https://localhost:8080/"
        },
        "id": "u7q-CovMbbrG",
        "outputId": "9a6a4ac5-737c-4538-90e5-78f700c8cab9"
      },
      "source": [
        "from google.colab import drive\n",
        "drive.mount('/content/gdrive')"
      ],
      "execution_count": 2,
      "outputs": [
        {
          "output_type": "stream",
          "text": [
            "Mounted at /content/gdrive\n"
          ],
          "name": "stdout"
        }
      ]
    },
    {
      "cell_type": "code",
      "metadata": {
        "colab": {
          "base_uri": "https://localhost:8080/"
        },
        "id": "V1agLxombbnP",
        "outputId": "95abbaef-49cd-4926-b700-9f933f114390"
      },
      "source": [
        "%ls /content/gdrive/MyDrive  #add your custom working directory"
      ],
      "execution_count": 3,
      "outputs": [
        {
          "output_type": "stream",
          "text": [
            " \u001b[0m\u001b[01;34mchapter1\u001b[0m/                      \u001b[01;34mpratik-derin-ogrenme-uygulamalari\u001b[0m/\n",
            "\u001b[01;34m'Colab Notebooks'\u001b[0m/              sample_file.txt\n",
            " \u001b[01;34mderin-ogrenme-alet-cantasi\u001b[0m/   'Untitled Diagram.drawio'\n",
            " Numpy_Python_Cheat_Sheet.pdf\n"
          ],
          "name": "stdout"
        }
      ]
    },
    {
      "cell_type": "code",
      "metadata": {
        "id": "Jn9sPSRmbbiC"
      },
      "source": [
        "import sys\n",
        "sys.path.insert(0, 'drive/')"
      ],
      "execution_count": null,
      "outputs": []
    },
    {
      "cell_type": "code",
      "metadata": {
        "colab": {
          "base_uri": "https://localhost:8080/"
        },
        "id": "U-Bfvc_8bbc5",
        "outputId": "a8cf67e9-7655-4fc9-c379-b2db7c9c587d"
      },
      "source": [
        "%ls"
      ],
      "execution_count": null,
      "outputs": [
        {
          "output_type": "stream",
          "text": [
            "\u001b[0m\u001b[01;34mgdrive\u001b[0m/  \u001b[01;34msample_data\u001b[0m/\n"
          ],
          "name": "stdout"
        }
      ]
    },
    {
      "cell_type": "code",
      "metadata": {
        "colab": {
          "base_uri": "https://localhost:8080/"
        },
        "id": "VgTCqD6DbbXx",
        "outputId": "dbcdc909-9220-4dad-a402-7cd07c6499f5"
      },
      "source": [
        "cd gdrive/"
      ],
      "execution_count": null,
      "outputs": [
        {
          "output_type": "stream",
          "text": [
            "/content/gdrive\n"
          ],
          "name": "stdout"
        }
      ]
    },
    {
      "cell_type": "code",
      "metadata": {
        "colab": {
          "base_uri": "https://localhost:8080/",
          "height": 35
        },
        "id": "kW8tpWM3bbSY",
        "outputId": "4b55a63c-081e-4be0-9d9d-5a12cb687cb5"
      },
      "source": [
        "pwd"
      ],
      "execution_count": null,
      "outputs": [
        {
          "output_type": "execute_result",
          "data": {
            "application/vnd.google.colaboratory.intrinsic+json": {
              "type": "string"
            },
            "text/plain": [
              "'/content/gdrive'"
            ]
          },
          "metadata": {
            "tags": []
          },
          "execution_count": 13
        }
      ]
    },
    {
      "cell_type": "code",
      "metadata": {
        "colab": {
          "base_uri": "https://localhost:8080/"
        },
        "id": "Y2QEgiI3bbHm",
        "outputId": "d96965a4-0711-4967-9682-0268569221dc"
      },
      "source": [
        "cd MyDrive/"
      ],
      "execution_count": 4,
      "outputs": [
        {
          "output_type": "stream",
          "text": [
            "[Errno 2] No such file or directory: 'MyDrive/'\n",
            "/content\n"
          ],
          "name": "stdout"
        }
      ]
    },
    {
      "cell_type": "code",
      "metadata": {
        "colab": {
          "base_uri": "https://localhost:8080/"
        },
        "id": "CdcCumszba7I",
        "outputId": "2faad945-cabf-4cef-ccc3-dba93a150d38"
      },
      "source": [
        "cd"
      ],
      "execution_count": null,
      "outputs": [
        {
          "output_type": "stream",
          "text": [
            "/root\n"
          ],
          "name": "stdout"
        }
      ]
    },
    {
      "cell_type": "code",
      "metadata": {
        "colab": {
          "base_uri": "https://localhost:8080/"
        },
        "id": "TxA3i5idbZoa",
        "outputId": "5853c14b-819c-414d-8862-b2fcb2fcb5ec"
      },
      "source": [
        "cd /content/"
      ],
      "execution_count": null,
      "outputs": [
        {
          "output_type": "stream",
          "text": [
            "/content\n"
          ],
          "name": "stdout"
        }
      ]
    },
    {
      "cell_type": "code",
      "metadata": {
        "colab": {
          "base_uri": "https://localhost:8080/"
        },
        "id": "HEQ7KPCIGdtA",
        "outputId": "8739e168-3644-437b-80a4-2d55ee59fe86"
      },
      "source": [
        "!pwd"
      ],
      "execution_count": null,
      "outputs": [
        {
          "output_type": "stream",
          "text": [
            "/content\n"
          ],
          "name": "stdout"
        }
      ]
    },
    {
      "cell_type": "code",
      "metadata": {
        "colab": {
          "base_uri": "https://localhost:8080/"
        },
        "id": "IHqxIhpnGfLN",
        "outputId": "7d45e184-2614-42a2-83dd-d0370394a0e0"
      },
      "source": [
        "!ls"
      ],
      "execution_count": 8,
      "outputs": [
        {
          "output_type": "stream",
          "text": [
            "gdrive\tsample_data\n"
          ],
          "name": "stdout"
        }
      ]
    },
    {
      "cell_type": "code",
      "metadata": {
        "id": "rI8WtKMSGiZW"
      },
      "source": [
        "#from google.colab import drive\n",
        "#drive.mount('/content/drive')"
      ],
      "execution_count": null,
      "outputs": []
    },
    {
      "cell_type": "code",
      "metadata": {
        "colab": {
          "base_uri": "https://localhost:8080/"
        },
        "id": "1tfSgtYLGjzo",
        "outputId": "4cbd95ec-12f9-49f8-e36a-0d30675faf21"
      },
      "source": [
        "!pwd"
      ],
      "execution_count": 7,
      "outputs": [
        {
          "output_type": "stream",
          "text": [
            "/content\n"
          ],
          "name": "stdout"
        }
      ]
    },
    {
      "cell_type": "code",
      "metadata": {
        "colab": {
          "base_uri": "https://localhost:8080/"
        },
        "id": "ZVDMahjEG0zB",
        "outputId": "6ef05eea-a2de-4af2-f176-192f1a0e3fe2"
      },
      "source": [
        "%cd /content/gdrive/MyDrive/Colab\\ Notebooks"
      ],
      "execution_count": 9,
      "outputs": [
        {
          "output_type": "stream",
          "text": [
            "/content/gdrive/MyDrive/Colab Notebooks\n"
          ],
          "name": "stdout"
        }
      ]
    },
    {
      "cell_type": "code",
      "metadata": {
        "colab": {
          "base_uri": "https://localhost:8080/"
        },
        "id": "mpLQcMucG2Ao",
        "outputId": "4fa0f200-3ae0-4864-cf12-0ce44cbfff66"
      },
      "source": [
        "ls colab_uygulamalar/"
      ],
      "execution_count": 10,
      "outputs": [
        {
          "output_type": "stream",
          "text": [
            "drive_colab_commands.ipynb      rakam_tanima_CNN_MNIST.py\n",
            "drive_colab_git_commands.ipynb  runfirst.ipynb\n"
          ],
          "name": "stdout"
        }
      ]
    },
    {
      "cell_type": "code",
      "metadata": {
        "colab": {
          "base_uri": "https://localhost:8080/"
        },
        "id": "VlABZPqPl3Wq",
        "outputId": "328b8acb-8f54-4e98-cdec-c5ca7aa2a63e"
      },
      "source": [
        "cd colab_uygulamalar"
      ],
      "execution_count": 11,
      "outputs": [
        {
          "output_type": "stream",
          "text": [
            "/content/gdrive/My Drive/Colab Notebooks/colab_uygulamalar\n"
          ],
          "name": "stdout"
        }
      ]
    },
    {
      "cell_type": "code",
      "metadata": {
        "id": "HhEls-rIG9gq"
      },
      "source": [
        "!touch \"/content/gdrive/My Drive/sample_file.txt\""
      ],
      "execution_count": null,
      "outputs": []
    },
    {
      "cell_type": "code",
      "metadata": {
        "colab": {
          "base_uri": "https://localhost:8080/"
        },
        "id": "Wirv1Uk5nMky",
        "outputId": "9bba46cf-5bfb-4cd1-e376-b6d07e7aad6d"
      },
      "source": [
        "%history"
      ],
      "execution_count": null,
      "outputs": [
        {
          "output_type": "stream",
          "text": [
            "from google.colab import drive\n",
            "drive.mount('/content/gdrive')\n",
            "%ls /content/gdrive/MyDrive  #add your custom working directory\n",
            "import sys\n",
            "sys.path.insert(0, 'drive/MyDrive/chapter1')\n",
            "import sys\n",
            "sys.path.insert(0, 'drive/chapter1')\n",
            "import sys\n",
            "sys.path.insert(0, 'drive/')\n",
            "pwd\n",
            "import io\n",
            "sys.chdir(\"drive/MyDrive/'Colab Notebooks'\")\n",
            "import io\n",
            "io.chdir(\"drive/MyDrive/'Colab Notebooks'\")\n",
            "from google.colab import files\n",
            "files.upload()\n",
            "import sys\n",
            "sys.path.insert(0, 'drive/')\n",
            "%ls\n",
            "cd gdrive/\n",
            "pwd\n",
            "cd MyDrive/\n",
            "cd\n",
            "cd /content/\n",
            "!pwd\n",
            "!ls\n",
            "#from google.colab import drive\n",
            "#drive.mount('/content/drive')\n",
            "!pwd\n",
            "%cd /content/gdrive/MyDrive/Colab\\ Notebooks\n",
            "ls colab_uygulamalar/\n",
            "!touch \"/content/gdrive/My Drive/sample_file.txt\"\n",
            "%history\n"
          ],
          "name": "stdout"
        }
      ]
    },
    {
      "cell_type": "code",
      "metadata": {
        "colab": {
          "base_uri": "https://localhost:8080/"
        },
        "id": "7Sf8U_1Qnua2",
        "outputId": "a0d0d344-9ba8-4e76-b402-2dbf939b0517"
      },
      "source": [
        "!ls /bin"
      ],
      "execution_count": null,
      "outputs": [
        {
          "output_type": "stream",
          "text": [
            "bash\t       hostname       su\n",
            "bunzip2        journalctl     sync\n",
            "bzcat\t       kill\t      systemctl\n",
            "bzcmp\t       kmod\t      systemd\n",
            "bzdiff\t       less\t      systemd-ask-password\n",
            "bzegrep        lessecho       systemd-escape\n",
            "bzexe\t       lessfile       systemd-hwdb\n",
            "bzfgrep        lesskey\t      systemd-inhibit\n",
            "bzgrep\t       lesspipe       systemd-machine-id-setup\n",
            "bzip2\t       ln\t      systemd-notify\n",
            "bzip2recover   login\t      systemd-sysusers\n",
            "bzless\t       loginctl       systemd-tmpfiles\n",
            "bzmore\t       ls\t      systemd-tty-ask-password-agent\n",
            "cat\t       lsblk\t      tar\n",
            "chgrp\t       lsmod\t      tempfile\n",
            "chmod\t       mkdir\t      touch\n",
            "chown\t       mknod\t      true\n",
            "cp\t       mktemp\t      udevadm\n",
            "dash\t       more\t      ulockmgr_server\n",
            "date\t       mount\t      umount\n",
            "dd\t       mountpoint     uname\n",
            "df\t       mv\t      uncompress\n",
            "dir\t       networkctl     vdir\n",
            "dmesg\t       nisdomainname  wdctl\n",
            "dnsdomainname  pidof\t      which\n",
            "domainname     ps\t      ypdomainname\n",
            "echo\t       pwd\t      zcat\n",
            "egrep\t       rbash\t      zcmp\n",
            "false\t       readlink       zdiff\n",
            "fgrep\t       rm\t      zegrep\n",
            "findmnt        rmdir\t      zfgrep\n",
            "fuser\t       run-parts      zforce\n",
            "fusermount     sed\t      zgrep\n",
            "grep\t       sh\t      zless\n",
            "gunzip\t       sh.distrib     zmore\n",
            "gzexe\t       sleep\t      znew\n",
            "gzip\t       stty\n"
          ],
          "name": "stdout"
        }
      ]
    },
    {
      "cell_type": "code",
      "metadata": {
        "id": "vHmT8hmV3rP3",
        "colab": {
          "base_uri": "https://localhost:8080/",
          "height": 35
        },
        "outputId": "4af82ef7-735a-4846-8318-40a7f2cbbfe9"
      },
      "source": [
        "pwd"
      ],
      "execution_count": 1,
      "outputs": [
        {
          "output_type": "execute_result",
          "data": {
            "application/vnd.google.colaboratory.intrinsic+json": {
              "type": "string"
            },
            "text/plain": [
              "'/content'"
            ]
          },
          "metadata": {
            "tags": []
          },
          "execution_count": 1
        }
      ]
    },
    {
      "cell_type": "code",
      "metadata": {
        "colab": {
          "base_uri": "https://localhost:8080/"
        },
        "id": "OzEPGppwtc-d",
        "outputId": "a7e08870-2f0e-4fcc-eda8-b390a59445f4"
      },
      "source": [
        "%cd  /content/gdrive/MyDrive/pratik-derin-ogrenme-uygulamalari/KERAS/"
      ],
      "execution_count": null,
      "outputs": [
        {
          "output_type": "stream",
          "text": [
            "/content/gdrive/MyDrive/pratik-derin-ogrenme-uygulamalari/KERAS\n"
          ],
          "name": "stdout"
        }
      ]
    },
    {
      "cell_type": "code",
      "metadata": {
        "colab": {
          "base_uri": "https://localhost:8080/"
        },
        "id": "5hFiTV68uP5I",
        "outputId": "7a0cca03-3128-4da5-cdba-d27b15237ce7"
      },
      "source": [
        "ls"
      ],
      "execution_count": null,
      "outputs": [
        {
          "output_type": "stream",
          "text": [
            "CNN_Fashion_Mnist.py                rakam_tanima_Denoising_Autoencoder.py\n",
            "nesne_tanima_CNN_CIFAR10.py         rakam_tanima_Hierarchical_RNN_MNIST.py\n",
            "nesne_tanima_CNN_CIFAR10_RESNET.py  rakam_tanima_MLP_MNIST.py\n",
            "\u001b[0m\u001b[01;34mnotebooks\u001b[0m/                          README.md\n",
            "rakam_tanima_CNN_MNIST.py\n"
          ],
          "name": "stdout"
        }
      ]
    },
    {
      "cell_type": "code",
      "metadata": {
        "colab": {
          "base_uri": "https://localhost:8080/",
          "height": 35
        },
        "id": "mbMMjQS9uZCR",
        "outputId": "0b1d611c-6595-4c3a-a14d-2414a6e01079"
      },
      "source": [
        "%pwd"
      ],
      "execution_count": null,
      "outputs": [
        {
          "output_type": "execute_result",
          "data": {
            "application/vnd.google.colaboratory.intrinsic+json": {
              "type": "string"
            },
            "text/plain": [
              "'/content/gdrive/MyDrive/pratik-derin-ogrenme-uygulamalari/KERAS'"
            ]
          },
          "metadata": {
            "tags": []
          },
          "execution_count": 29
        }
      ]
    },
    {
      "cell_type": "code",
      "metadata": {
        "colab": {
          "base_uri": "https://localhost:8080/"
        },
        "id": "v1CEsPVQudJt",
        "outputId": "8c98017e-a452-404c-e0f0-921cc811d520"
      },
      "source": [
        "!python CNN_Fashion_Mnist.py"
      ],
      "execution_count": null,
      "outputs": [
        {
          "output_type": "stream",
          "text": [
            "2021-05-29 06:20:13.730612: I tensorflow/stream_executor/platform/default/dso_loader.cc:53] Successfully opened dynamic library libcudart.so.11.0\n",
            "Downloading data from https://storage.googleapis.com/tensorflow/tf-keras-datasets/train-labels-idx1-ubyte.gz\n",
            "32768/29515 [=================================] - 0s 0us/step\n",
            "40960/29515 [=========================================] - 0s 0us/step\n",
            "Downloading data from https://storage.googleapis.com/tensorflow/tf-keras-datasets/train-images-idx3-ubyte.gz\n",
            "26427392/26421880 [==============================] - 0s 0us/step\n",
            "26435584/26421880 [==============================] - 0s 0us/step\n",
            "Downloading data from https://storage.googleapis.com/tensorflow/tf-keras-datasets/t10k-labels-idx1-ubyte.gz\n",
            "16384/5148 [===============================================================================================] - 0s 0us/step\n",
            "Downloading data from https://storage.googleapis.com/tensorflow/tf-keras-datasets/t10k-images-idx3-ubyte.gz\n",
            "4423680/4422102 [==============================] - 0s 0us/step\n",
            "4431872/4422102 [==============================] - 0s 0us/step\n",
            "2021-05-29 06:20:16.056021: I tensorflow/stream_executor/platform/default/dso_loader.cc:53] Successfully opened dynamic library libcuda.so.1\n",
            "2021-05-29 06:20:16.118465: I tensorflow/stream_executor/cuda/cuda_gpu_executor.cc:937] successful NUMA node read from SysFS had negative value (-1), but there must be at least one NUMA node, so returning NUMA node zero\n",
            "2021-05-29 06:20:16.119063: I tensorflow/core/common_runtime/gpu/gpu_device.cc:1733] Found device 0 with properties: \n",
            "pciBusID: 0000:00:04.0 name: Tesla T4 computeCapability: 7.5\n",
            "coreClock: 1.59GHz coreCount: 40 deviceMemorySize: 14.75GiB deviceMemoryBandwidth: 298.08GiB/s\n",
            "2021-05-29 06:20:16.119109: I tensorflow/stream_executor/platform/default/dso_loader.cc:53] Successfully opened dynamic library libcudart.so.11.0\n",
            "2021-05-29 06:20:16.234385: I tensorflow/stream_executor/platform/default/dso_loader.cc:53] Successfully opened dynamic library libcublas.so.11\n",
            "2021-05-29 06:20:16.234489: I tensorflow/stream_executor/platform/default/dso_loader.cc:53] Successfully opened dynamic library libcublasLt.so.11\n",
            "2021-05-29 06:20:16.366766: I tensorflow/stream_executor/platform/default/dso_loader.cc:53] Successfully opened dynamic library libcufft.so.10\n",
            "2021-05-29 06:20:16.418807: I tensorflow/stream_executor/platform/default/dso_loader.cc:53] Successfully opened dynamic library libcurand.so.10\n",
            "2021-05-29 06:20:16.657051: I tensorflow/stream_executor/platform/default/dso_loader.cc:53] Successfully opened dynamic library libcusolver.so.10\n",
            "2021-05-29 06:20:16.670779: I tensorflow/stream_executor/platform/default/dso_loader.cc:53] Successfully opened dynamic library libcusparse.so.11\n",
            "2021-05-29 06:20:16.675777: I tensorflow/stream_executor/platform/default/dso_loader.cc:53] Successfully opened dynamic library libcudnn.so.8\n",
            "2021-05-29 06:20:16.675915: I tensorflow/stream_executor/cuda/cuda_gpu_executor.cc:937] successful NUMA node read from SysFS had negative value (-1), but there must be at least one NUMA node, so returning NUMA node zero\n",
            "2021-05-29 06:20:16.676606: I tensorflow/stream_executor/cuda/cuda_gpu_executor.cc:937] successful NUMA node read from SysFS had negative value (-1), but there must be at least one NUMA node, so returning NUMA node zero\n",
            "2021-05-29 06:20:16.679043: I tensorflow/core/common_runtime/gpu/gpu_device.cc:1871] Adding visible gpu devices: 0\n",
            "2021-05-29 06:20:16.679595: I tensorflow/stream_executor/cuda/cuda_gpu_executor.cc:937] successful NUMA node read from SysFS had negative value (-1), but there must be at least one NUMA node, so returning NUMA node zero\n",
            "2021-05-29 06:20:16.680175: I tensorflow/core/common_runtime/gpu/gpu_device.cc:1733] Found device 0 with properties: \n",
            "pciBusID: 0000:00:04.0 name: Tesla T4 computeCapability: 7.5\n",
            "coreClock: 1.59GHz coreCount: 40 deviceMemorySize: 14.75GiB deviceMemoryBandwidth: 298.08GiB/s\n",
            "2021-05-29 06:20:16.680254: I tensorflow/stream_executor/cuda/cuda_gpu_executor.cc:937] successful NUMA node read from SysFS had negative value (-1), but there must be at least one NUMA node, so returning NUMA node zero\n",
            "2021-05-29 06:20:16.680824: I tensorflow/stream_executor/cuda/cuda_gpu_executor.cc:937] successful NUMA node read from SysFS had negative value (-1), but there must be at least one NUMA node, so returning NUMA node zero\n",
            "2021-05-29 06:20:16.681329: I tensorflow/core/common_runtime/gpu/gpu_device.cc:1871] Adding visible gpu devices: 0\n",
            "2021-05-29 06:20:16.717499: I tensorflow/stream_executor/platform/default/dso_loader.cc:53] Successfully opened dynamic library libcudart.so.11.0\n",
            "2021-05-29 06:20:21.038514: I tensorflow/core/common_runtime/gpu/gpu_device.cc:1258] Device interconnect StreamExecutor with strength 1 edge matrix:\n",
            "2021-05-29 06:20:21.038568: I tensorflow/core/common_runtime/gpu/gpu_device.cc:1264]      0 \n",
            "2021-05-29 06:20:21.038583: I tensorflow/core/common_runtime/gpu/gpu_device.cc:1277] 0:   N \n",
            "2021-05-29 06:20:21.038742: I tensorflow/stream_executor/cuda/cuda_gpu_executor.cc:937] successful NUMA node read from SysFS had negative value (-1), but there must be at least one NUMA node, so returning NUMA node zero\n",
            "2021-05-29 06:20:21.039340: I tensorflow/stream_executor/cuda/cuda_gpu_executor.cc:937] successful NUMA node read from SysFS had negative value (-1), but there must be at least one NUMA node, so returning NUMA node zero\n",
            "2021-05-29 06:20:21.039906: I tensorflow/stream_executor/cuda/cuda_gpu_executor.cc:937] successful NUMA node read from SysFS had negative value (-1), but there must be at least one NUMA node, so returning NUMA node zero\n",
            "2021-05-29 06:20:21.040436: W tensorflow/core/common_runtime/gpu/gpu_bfc_allocator.cc:39] Overriding allow_growth setting because the TF_FORCE_GPU_ALLOW_GROWTH environment variable is set. Original config value was 0.\n",
            "2021-05-29 06:20:21.040483: I tensorflow/core/common_runtime/gpu/gpu_device.cc:1418] Created TensorFlow device (/job:localhost/replica:0/task:0/device:GPU:0 with 13837 MB memory) -> physical GPU (device: 0, name: Tesla T4, pci bus id: 0000:00:04.0, compute capability: 7.5)\n",
            "2021-05-29 06:20:21.654944: I tensorflow/compiler/mlir/mlir_graph_optimization_pass.cc:176] None of the MLIR Optimization Passes are enabled (registered 2)\n",
            "2021-05-29 06:20:21.657814: I tensorflow/core/platform/profile_utils/cpu_utils.cc:114] CPU Frequency: 2199995000 Hz\n",
            "Epoch 1/15\n",
            "2021-05-29 06:20:32.810126: I tensorflow/stream_executor/platform/default/dso_loader.cc:53] Successfully opened dynamic library libcudnn.so.8\n",
            "2021-05-29 06:20:35.015827: I tensorflow/stream_executor/cuda/cuda_dnn.cc:359] Loaded cuDNN version 8004\n",
            "2021-05-29 06:20:59.306287: I tensorflow/stream_executor/platform/default/dso_loader.cc:53] Successfully opened dynamic library libcublas.so.11\n",
            "2021-05-29 06:21:01.834113: I tensorflow/stream_executor/platform/default/dso_loader.cc:53] Successfully opened dynamic library libcublasLt.so.11\n",
            "1500/1500 [==============================] - 47s 3ms/step - loss: 0.5555 - accuracy: 0.8044 - val_loss: 0.2824 - val_accuracy: 0.8978\n",
            "Epoch 2/15\n",
            "1500/1500 [==============================] - 5s 4ms/step - loss: 0.2684 - accuracy: 0.9028 - val_loss: 0.2712 - val_accuracy: 0.9035\n",
            "Epoch 3/15\n",
            "1500/1500 [==============================] - 5s 3ms/step - loss: 0.2133 - accuracy: 0.9242 - val_loss: 0.2377 - val_accuracy: 0.9147\n",
            "Epoch 4/15\n",
            "1500/1500 [==============================] - 5s 3ms/step - loss: 0.1845 - accuracy: 0.9335 - val_loss: 0.2330 - val_accuracy: 0.9186\n",
            "Epoch 5/15\n",
            "1500/1500 [==============================] - 5s 4ms/step - loss: 0.1602 - accuracy: 0.9444 - val_loss: 0.2606 - val_accuracy: 0.9106\n",
            "Epoch 6/15\n",
            "1500/1500 [==============================] - 5s 3ms/step - loss: 0.1517 - accuracy: 0.9482 - val_loss: 0.2902 - val_accuracy: 0.9122\n",
            "Epoch 7/15\n",
            "1500/1500 [==============================] - 5s 4ms/step - loss: 0.1281 - accuracy: 0.9548 - val_loss: 0.3251 - val_accuracy: 0.9122\n",
            "Epoch 8/15\n",
            "1500/1500 [==============================] - 5s 3ms/step - loss: 0.1180 - accuracy: 0.9594 - val_loss: 0.3078 - val_accuracy: 0.9052\n",
            "Epoch 9/15\n",
            "1500/1500 [==============================] - 5s 4ms/step - loss: 0.1071 - accuracy: 0.9630 - val_loss: 0.3016 - val_accuracy: 0.9140\n",
            "Epoch 10/15\n",
            "1500/1500 [==============================] - 5s 3ms/step - loss: 0.0977 - accuracy: 0.9659 - val_loss: 0.3103 - val_accuracy: 0.9143\n",
            "Epoch 11/15\n",
            "1500/1500 [==============================] - 5s 3ms/step - loss: 0.0952 - accuracy: 0.9681 - val_loss: 0.3088 - val_accuracy: 0.9122\n",
            "Epoch 12/15\n",
            "1500/1500 [==============================] - 5s 3ms/step - loss: 0.0872 - accuracy: 0.9696 - val_loss: 0.3878 - val_accuracy: 0.9155\n",
            "Epoch 13/15\n",
            "1500/1500 [==============================] - 6s 4ms/step - loss: 0.0790 - accuracy: 0.9730 - val_loss: 0.4028 - val_accuracy: 0.9122\n",
            "Epoch 14/15\n",
            "1500/1500 [==============================] - 5s 3ms/step - loss: 0.0732 - accuracy: 0.9750 - val_loss: 0.3906 - val_accuracy: 0.9151\n",
            "Epoch 15/15\n",
            "1500/1500 [==============================] - 5s 3ms/step - loss: 0.0717 - accuracy: 0.9757 - val_loss: 0.4682 - val_accuracy: 0.9172\n",
            "313/313 [==============================] - 1s 2ms/step - loss: 0.5035 - accuracy: 0.9138\n",
            "Yitim değeri (loss): 0.5034981369972229\n",
            "Test başarısı (accuracy): 0.9138000011444092\n"
          ],
          "name": "stdout"
        }
      ]
    },
    {
      "cell_type": "code",
      "metadata": {
        "id": "7M5YVT8SvrH2"
      },
      "source": [
        ""
      ],
      "execution_count": null,
      "outputs": []
    },
    {
      "cell_type": "code",
      "metadata": {
        "colab": {
          "base_uri": "https://localhost:8080/"
        },
        "id": "6YpnF9TUHCn9",
        "outputId": "35d084fd-1dc0-4acf-9bc1-f9b759c27a75"
      },
      "source": [
        "%ldir"
      ],
      "execution_count": null,
      "outputs": [
        {
          "output_type": "stream",
          "text": [
            "drwx------ 5 root 4096 May 28 11:16 \u001b[0m\u001b[01;34mgdrive\u001b[0m/\n",
            "drwxr-xr-x 1 root 4096 May  6 13:44 \u001b[01;34msample_data\u001b[0m/\n"
          ],
          "name": "stdout"
        }
      ]
    },
    {
      "cell_type": "code",
      "metadata": {
        "colab": {
          "base_uri": "https://localhost:8080/",
          "height": 38
        },
        "id": "7rWO_wZ8nclu",
        "outputId": "fbc3da19-6750-4d7b-910c-df915bef36c8"
      },
      "source": [
        "%%html\n",
        "<marquee style='width: 50%; color: Green;'>\n",
        "  <strong>Welcome to Googgle Colab Tutorialspoint!</strong>\n",
        "  </marquee>"
      ],
      "execution_count": null,
      "outputs": [
        {
          "output_type": "display_data",
          "data": {
            "text/html": [
              "<marquee style='width: 50%; color: Green;'>\n",
              "  <strong>Welcome to Googgle Colab Tutorialspoint!</strong>\n",
              "  </marquee>"
            ],
            "text/plain": [
              "<IPython.core.display.HTML object>"
            ]
          },
          "metadata": {
            "tags": []
          }
        }
      ]
    },
    {
      "cell_type": "code",
      "metadata": {
        "colab": {
          "base_uri": "https://localhost:8080/",
          "height": 421
        },
        "id": "osBLOJiGqjP2",
        "outputId": "190a3621-a44b-4f22-e341-acb47486035f"
      },
      "source": [
        "%%html\n",
        "<svg xmlns=\"https://www.w3.org/2000/svg\" viewBox=\"0 0 600 400\" width=\"400\" height=\"400\">\n",
        "   <rect x=\"10\" y=\"00\" width=\"300\" height=\"100\" rx=\"0\" style=\"fill:orange; stroke:black; fill-opacity:1.0\" />\n",
        "   <rect x=\"10\" y=\"100\" width=\"300\" height=\"100\" rx=\"0\" style=\"fill:white; stroke:black; fill-opacity:1.0;\" />\n",
        "   <rect x=\"10\" y=\"200\" width=\"300\" height=\"100\" rx=\"0\" style=\"fill:green; stroke:black; fill-opacity:1.0;\" />\n",
        "</svg>"
      ],
      "execution_count": null,
      "outputs": [
        {
          "output_type": "display_data",
          "data": {
            "text/html": [
              "<svg xmlns=\"https://www.w3.org/2000/svg\" viewBox=\"0 0 600 400\" width=\"400\" height=\"400\">\n",
              "   <rect x=\"10\" y=\"00\" width=\"300\" height=\"100\" rx=\"0\" style=\"fill:orange; stroke:black; fill-opacity:1.0\" />\n",
              "   <rect x=\"10\" y=\"100\" width=\"300\" height=\"100\" rx=\"0\" style=\"fill:white; stroke:black; fill-opacity:1.0;\" />\n",
              "   <rect x=\"10\" y=\"200\" width=\"300\" height=\"100\" rx=\"0\" style=\"fill:green; stroke:black; fill-opacity:1.0;\" />\n",
              "</svg>"
            ],
            "text/plain": [
              "<IPython.core.display.HTML object>"
            ]
          },
          "metadata": {
            "tags": []
          }
        }
      ]
    },
    {
      "cell_type": "code",
      "metadata": {
        "colab": {
          "base_uri": "https://localhost:8080/"
        },
        "id": "VFVcsKsMmEsd",
        "outputId": "1eacec07-e5ac-462f-9f5a-77bf8eb0e8dd"
      },
      "source": [
        "!git init"
      ],
      "execution_count": 12,
      "outputs": [
        {
          "output_type": "stream",
          "text": [
            "Initialized empty Git repository in /content/gdrive/My Drive/Colab Notebooks/colab_uygulamalar/.git/\n"
          ],
          "name": "stdout"
        }
      ]
    },
    {
      "cell_type": "code",
      "metadata": {
        "colab": {
          "base_uri": "https://localhost:8080/"
        },
        "id": "LvhQxIMAmPl7",
        "outputId": "cb2576ed-7c0f-40e1-b5c1-b3accf1d8349"
      },
      "source": [
        "ls"
      ],
      "execution_count": 13,
      "outputs": [
        {
          "output_type": "stream",
          "text": [
            "drive_colab_commands.ipynb      rakam_tanima_CNN_MNIST.py\n",
            "drive_colab_git_commands.ipynb  runfirst.ipynb\n"
          ],
          "name": "stdout"
        }
      ]
    },
    {
      "cell_type": "code",
      "metadata": {
        "colab": {
          "base_uri": "https://localhost:8080/"
        },
        "id": "QX2uijCWm5cc",
        "outputId": "95ae1f9f-3ca2-4dd2-d919-8ff2e8eefe1c"
      },
      "source": [
        " !git status"
      ],
      "execution_count": 18,
      "outputs": [
        {
          "output_type": "stream",
          "text": [
            "On branch master\n",
            "\n",
            "No commits yet\n",
            "\n",
            "Changes to be committed:\n",
            "  (use \"git rm --cached <file>...\" to unstage)\n",
            "\n",
            "\t\u001b[32mnew file:   drive_colab_commands.ipynb\u001b[m\n",
            "\t\u001b[32mnew file:   drive_colab_git_commands.ipynb\u001b[m\n",
            "\t\u001b[32mnew file:   rakam_tanima_CNN_MNIST.py\u001b[m\n",
            "\t\u001b[32mnew file:   runfirst.ipynb\u001b[m\n",
            "\n"
          ],
          "name": "stdout"
        }
      ]
    },
    {
      "cell_type": "code",
      "metadata": {
        "id": "2_3_j2IHpWJE"
      },
      "source": [
        "!git add ."
      ],
      "execution_count": 17,
      "outputs": []
    },
    {
      "cell_type": "code",
      "metadata": {
        "colab": {
          "base_uri": "https://localhost:8080/"
        },
        "id": "DjA-VMHNpoTM",
        "outputId": "c51c0306-35bf-4a3b-c4a4-78802f6ddf56"
      },
      "source": [
        "!git commit -m \"Colab çalışmaları yuklendi\""
      ],
      "execution_count": 20,
      "outputs": [
        {
          "output_type": "stream",
          "text": [
            "\n",
            "*** Please tell me who you are.\n",
            "\n",
            "Run\n",
            "\n",
            "  git config --global user.email \"you@example.com\"\n",
            "  git config --global user.name \"Your Name\"\n",
            "\n",
            "to set your account's default identity.\n",
            "Omit --global to set the identity only in this repository.\n",
            "\n",
            "fatal: unable to auto-detect email address (got 'root@9ea7e0cbd988.(none)')\n"
          ],
          "name": "stdout"
        }
      ]
    },
    {
      "cell_type": "code",
      "metadata": {
        "id": "eqOkBzZPqDcp"
      },
      "source": [
        "!git config --global user.email \"mustafaegebozkaya555@gmail.com\""
      ],
      "execution_count": 22,
      "outputs": []
    },
    {
      "cell_type": "code",
      "metadata": {
        "id": "8GpCFcFYqPnU"
      },
      "source": [
        " !git config --global user.name \"mustafaboz\""
      ],
      "execution_count": 23,
      "outputs": []
    },
    {
      "cell_type": "code",
      "metadata": {
        "colab": {
          "base_uri": "https://localhost:8080/"
        },
        "id": "ZwEcCk81qikc",
        "outputId": "d57192fb-bc1c-47d9-b884-801a0f14f554"
      },
      "source": [
        " !git commit -m \"Colab çalışmaları yuklendi\""
      ],
      "execution_count": 24,
      "outputs": [
        {
          "output_type": "stream",
          "text": [
            "[master (root-commit) 33d8835] Colab çalışmaları yuklendi\n",
            " 4 files changed, 110 insertions(+)\n",
            " create mode 100644 drive_colab_commands.ipynb\n",
            " create mode 100644 drive_colab_git_commands.ipynb\n",
            " create mode 100644 rakam_tanima_CNN_MNIST.py\n",
            " create mode 100644 runfirst.ipynb\n"
          ],
          "name": "stdout"
        }
      ]
    },
    {
      "cell_type": "code",
      "metadata": {
        "id": "m0tPiJTnqmpa"
      },
      "source": [
        " !git remote add  gitremote https://github.com/mustafabozkaya/Colab_uygulamalar.git"
      ],
      "execution_count": 26,
      "outputs": []
    },
    {
      "cell_type": "code",
      "metadata": {
        "colab": {
          "base_uri": "https://localhost:8080/"
        },
        "id": "FFaj09pbrRaa",
        "outputId": "2cc0728b-a986-42d0-cdb6-40a08094e2c0"
      },
      "source": [
        "!git remote -v"
      ],
      "execution_count": 27,
      "outputs": [
        {
          "output_type": "stream",
          "text": [
            "gitremote\thttps://github.com/mustafabozkaya/Colab_uygulamalar.git (fetch)\n",
            "gitremote\thttps://github.com/mustafabozkaya/Colab_uygulamalar.git (push)\n"
          ],
          "name": "stdout"
        }
      ]
    },
    {
      "cell_type": "code",
      "metadata": {
        "colab": {
          "base_uri": "https://localhost:8080/"
        },
        "id": "mRBnXs4grvQn",
        "outputId": "b560838a-861e-4a9e-acac-a05337a9c474"
      },
      "source": [
        "!git push gitremote master"
      ],
      "execution_count": 28,
      "outputs": [
        {
          "output_type": "stream",
          "text": [
            "fatal: could not read Username for 'https://github.com': No such device or address\n"
          ],
          "name": "stdout"
        }
      ]
    }
  ]
}