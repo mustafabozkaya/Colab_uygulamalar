{
  "nbformat": 4,
  "nbformat_minor": 0,
  "metadata": {
    "colab": {
      "provenance": [],
      "include_colab_link": true
    },
    "kernelspec": {
      "name": "python3",
      "display_name": "Python 3"
    },
    "language_info": {
      "name": "python"
    }
  },
  "cells": [
    {
      "cell_type": "markdown",
      "metadata": {
        "id": "view-in-github",
        "colab_type": "text"
      },
      "source": [
        "<a href=\"https://colab.research.google.com/github/mustafabozkaya/Colab_uygulamalar/blob/main/Sentiment_Analysis_With_SparkNLP_and%C2%A0Comet.ipynb\" target=\"_parent\"><img src=\"https://colab.research.google.com/assets/colab-badge.svg\" alt=\"Open In Colab\"/></a>"
      ]
    },
    {
      "cell_type": "code",
      "execution_count": null,
      "metadata": {
        "id": "dwKwQzJAqw16"
      },
      "outputs": [],
      "source": [
        "!pip install spark-nlp==4.2.6\n",
        "!pip install comet_ml"
      ]
    },
    {
      "cell_type": "code",
      "source": [
        "!pip install pyspark"
      ],
      "metadata": {
        "id": "P6o3qpiFrEk6"
      },
      "execution_count": null,
      "outputs": []
    },
    {
      "cell_type": "code",
      "source": [
        "# Import Spark NLP\n",
        "import sparknlp\n",
        "from sparknlp.base import *\n",
        "from sparknlp.annotator import *\n",
        "from pyspark.ml import Pipeline\n",
        "\n",
        "spark = sparknlp.start()\n",
        "\n",
        "# Import comet\n",
        "import comet_ml\n",
        "from sparknlp.logging.comet import CometLogger"
      ],
      "metadata": {
        "id": "NeWs756Uq1kx"
      },
      "execution_count": null,
      "outputs": []
    },
    {
      "cell_type": "code",
      "source": [
        "experiment = comet_ml.Experiment(\"bJKpx3E8fy3xLnFRyoTUS13Yf\")"
      ],
      "metadata": {
        "colab": {
          "base_uri": "https://localhost:8080/"
        },
        "id": "u5r4fysDrBnO",
        "outputId": "eeca2ccf-cae8-494c-9e5f-6cea0333484f"
      },
      "execution_count": null,
      "outputs": [
        {
          "output_type": "stream",
          "name": "stderr",
          "text": [
            "COMET WARNING: As you are running in a Jupyter environment, you will need to call `experiment.end()` when finished to ensure all metrics and code are logged before exiting.\n",
            "COMET ERROR: Failed to calculate active processors count. Fall back to default CPU count 1\n",
            "COMET INFO: Couldn't find a Git repository in '/content' nor in any parent directory. You can override where Comet is looking for a Git Patch by setting the configuration `COMET_GIT_DIRECTORY`\n",
            "COMET INFO: Experiment is live on comet.com https://www.comet.com/jamessandy/general/a7e641c215be4beca7cfb8de6f3a545a\n",
            "\n"
          ]
        }
      ]
    },
    {
      "cell_type": "code",
      "source": [
        "comet_ml.init(project_name='test-sparknlp ')"
      ],
      "metadata": {
        "colab": {
          "base_uri": "https://localhost:8080/"
        },
        "id": "6q9WckrDsGGI",
        "outputId": "c5737449-730b-4f67-9813-d9bb2ca2a27c"
      },
      "execution_count": null,
      "outputs": [
        {
          "name": "stdout",
          "output_type": "stream",
          "text": [
            "Please enter your Comet API key from https://www.comet.com/api/my/settings/\n",
            "(api key may not show as you type)\n",
            "Comet API key: ··········\n"
          ]
        },
        {
          "output_type": "stream",
          "name": "stderr",
          "text": [
            "COMET INFO: Comet API key is valid\n",
            "COMET WARNING: running in Google Colab, but can't find mounted drive. Using HOME instead\n",
            "COMET WARNING: if drive is mounted, set COMET_CONFIG to save config there\n",
            "COMET INFO: Comet API key saved in /root/.comet.config\n"
          ]
        }
      ]
    },
    {
      "cell_type": "code",
      "source": [
        "spark = sparknlp.start()\n",
        "logger = CometLogger()\n",
        "OUTPUT_LOG_PATH = \"./run\""
      ],
      "metadata": {
        "colab": {
          "base_uri": "https://localhost:8080/"
        },
        "id": "LjOyvAlDsLJ4",
        "outputId": "5b9a4ae8-2b7c-4ec0-f626-88dbbfe29ad6"
      },
      "execution_count": null,
      "outputs": [
        {
          "output_type": "stream",
          "name": "stderr",
          "text": [
            "COMET INFO: ---------------------------\n",
            "COMET INFO: Comet.ml Experiment Summary\n",
            "COMET INFO: ---------------------------\n",
            "COMET INFO:   Data:\n",
            "COMET INFO:     display_summary_level : 1\n",
            "COMET INFO:     url                   : https://www.comet.com/jamessandy/general/a7e641c215be4beca7cfb8de6f3a545a\n",
            "COMET INFO:   Uploads:\n",
            "COMET INFO:     environment details : 1\n",
            "COMET INFO:     filename            : 1\n",
            "COMET INFO:     installed packages  : 1\n",
            "COMET INFO:     notebook            : 2\n",
            "COMET INFO:     os packages         : 1\n",
            "COMET INFO:     source_code         : 1\n",
            "COMET INFO: ---------------------------\n",
            "COMET WARNING: As you are running in a Jupyter environment, you will need to call `experiment.end()` when finished to ensure all metrics and code are logged before exiting.\n",
            "COMET ERROR: Failed to calculate active processors count. Fall back to default CPU count 1\n",
            "COMET INFO: Couldn't find a Git repository in '/content' nor in any parent directory. You can override where Comet is looking for a Git Patch by setting the configuration `COMET_GIT_DIRECTORY`\n",
            "COMET INFO: Experiment is live on comet.com https://www.comet.com/jamessandy/test-sparknlp/d23eacfe5a394f2ca33a2cda891bc577\n",
            "\n"
          ]
        }
      ]
    },
    {
      "cell_type": "code",
      "source": [
        "# Create a document assembler\n",
        "document = DocumentAssembler() \\\n",
        "    .setInputCol(\"text\") \\\n",
        "    .setOutputCol(\"document\")"
      ],
      "metadata": {
        "id": "nHuIStZJsSX7"
      },
      "execution_count": null,
      "outputs": []
    },
    {
      "cell_type": "code",
      "source": [
        "# Create a tokenizer\n",
        "token = Tokenizer() \\\n",
        "    .setInputCols([\"document\"]) \\\n",
        "    .setOutputCol(\"token\")"
      ],
      "metadata": {
        "id": "pBO4zmZBsZhh"
      },
      "execution_count": null,
      "outputs": []
    },
    {
      "cell_type": "code",
      "source": [
        "# Create a normalizer\n",
        "normalizer = Normalizer() \\\n",
        "    .setInputCols([\"token\"]) \\\n",
        "    .setOutputCol(\"normal\")"
      ],
      "metadata": {
        "id": "Bqi5I2Eosaok"
      },
      "execution_count": null,
      "outputs": []
    },
    {
      "cell_type": "code",
      "source": [
        "# Load a pretrained sentiment analysis model\n",
        "vivekn = ViveknSentimentModel.pretrained() \\\n",
        "    .setInputCols([\"document\", \"normal\"]) \\\n",
        "    .setOutputCol(\"result_sentiment\")"
      ],
      "metadata": {
        "colab": {
          "base_uri": "https://localhost:8080/"
        },
        "id": "6hkICHb-satI",
        "outputId": "9ceafc24-4943-4f5d-964e-b4ab94902847"
      },
      "execution_count": null,
      "outputs": [
        {
          "output_type": "stream",
          "name": "stdout",
          "text": [
            "sentiment_vivekn download started this may take some time.\n",
            "Approximate size to download 873.6 KB\n",
            "[OK!]\n"
          ]
        }
      ]
    },
    {
      "cell_type": "code",
      "source": [
        "# Create a finisher\n",
        "finisher = Finisher() \\\n",
        "    .setInputCols([\"result_sentiment\"]) \\\n",
        "    .setOutputCols(\"final_sentiment\")\n"
      ],
      "metadata": {
        "id": "kOK8les_sgj_"
      },
      "execution_count": null,
      "outputs": []
    },
    {
      "cell_type": "code",
      "source": [
        "# Create a pipeline with all the stages\n",
        "pipeline = Pipeline().setStages([document, token, normalizer, vivekn, finisher])\n",
        "\n",
        "# Create the data as a Spark dataframe\n",
        "data = spark.createDataFrame([\n",
        "    [\"I recommend this movie\"],\n",
        "    [\"Dont waste your time!!!\"]\n",
        "]).toDF(\"text\")"
      ],
      "metadata": {
        "id": "YCi4Up0g2QTH"
      },
      "execution_count": null,
      "outputs": []
    },
    {
      "cell_type": "code",
      "source": [
        "# Fit the pipeline to the data\n",
        "pipelineModel = pipeline.fit(data)\n",
        "\n",
        "# Transform the data and show the final sentiment\n",
        "result = pipelineModel.transform(data)\n",
        "result.select(\"final_sentiment\").show(truncate=False)\n",
        "logger.log_pipeline_parameters(pipelineModel)\n",
        "logger.end()"
      ],
      "metadata": {
        "colab": {
          "base_uri": "https://localhost:8080/"
        },
        "id": "tpGoh2yWstVX",
        "outputId": "34a66764-14cc-4374-c3c9-76a12cae31f3"
      },
      "execution_count": null,
      "outputs": [
        {
          "output_type": "stream",
          "name": "stdout",
          "text": [
            "+---------------+\n",
            "|final_sentiment|\n",
            "+---------------+\n",
            "|[positive]     |\n",
            "|[positive]     |\n",
            "+---------------+\n",
            "\n"
          ]
        },
        {
          "output_type": "stream",
          "name": "stderr",
          "text": [
            "COMET INFO: ---------------------------\n",
            "COMET INFO: Comet.ml Experiment Summary\n",
            "COMET INFO: ---------------------------\n",
            "COMET INFO:   Data:\n",
            "COMET INFO:     display_summary_level : 1\n",
            "COMET INFO:     url                   : https://www.comet.com/jamessandy/test-sparknlp/d23eacfe5a394f2ca33a2cda891bc577\n",
            "COMET INFO:   Others:\n",
            "COMET INFO:     Created from : SparkNLP\n",
            "COMET INFO:     model_uid    : VIVEKN_8ac4c5e76848\n",
            "COMET INFO:     pipeline_uid : PipelineModel_98efb2e744f6\n",
            "COMET INFO:   Parameters:\n",
            "COMET INFO:     DocumentAssembler-cleanupMode               : disabled\n",
            "COMET INFO:     DocumentAssembler-inputCol                  : text\n",
            "COMET INFO:     DocumentAssembler-outputCol                 : document\n",
            "COMET INFO:     Finisher-annotationSplitSymbol              : @\n",
            "COMET INFO:     Finisher-cleanAnnotations                   : True\n",
            "COMET INFO:     Finisher-includeMetadata                    : False\n",
            "COMET INFO:     Finisher-inputCols                          : ['result_sentiment']\n",
            "COMET INFO:     Finisher-outputAsArray                      : True\n",
            "COMET INFO:     Finisher-outputCols                         : ['final_sentiment']\n",
            "COMET INFO:     Finisher-parseEmbeddingsVectors             : False\n",
            "COMET INFO:     Finisher-valueSplitSymbol                   : #\n",
            "COMET INFO:     NormalizerModel-cleanupPatterns             : ['[^\\\\pL+]']\n",
            "COMET INFO:     NormalizerModel-inputCols                   : ['token']\n",
            "COMET INFO:     NormalizerModel-lazyAnnotator               : False\n",
            "COMET INFO:     NormalizerModel-lowercase                   : False\n",
            "COMET INFO:     NormalizerModel-minLength                   : 0\n",
            "COMET INFO:     NormalizerModel-outputCol                   : normal\n",
            "COMET INFO:     NormalizerModel-slangMatchCase              : False\n",
            "COMET INFO:     TokenizerModel-caseSensitiveExceptions      : True\n",
            "COMET INFO:     TokenizerModel-inputCols                    : ['document']\n",
            "COMET INFO:     TokenizerModel-lazyAnnotator                : False\n",
            "COMET INFO:     TokenizerModel-maxLength                    : 99999\n",
            "COMET INFO:     TokenizerModel-minLength                    : 0\n",
            "COMET INFO:     TokenizerModel-outputCol                    : token\n",
            "COMET INFO:     TokenizerModel-targetPattern                : \\S+\n",
            "COMET INFO:     ViveknSentimentModel-featureLimit           : -1\n",
            "COMET INFO:     ViveknSentimentModel-importantFeatureRatio  : 0.5\n",
            "COMET INFO:     ViveknSentimentModel-inputCols              : ['document', 'normal']\n",
            "COMET INFO:     ViveknSentimentModel-lazyAnnotator          : False\n",
            "COMET INFO:     ViveknSentimentModel-negative_totals        : 149804\n",
            "COMET INFO:     ViveknSentimentModel-outputCol              : result_sentiment\n",
            "COMET INFO:     ViveknSentimentModel-positive_totals        : 149804\n",
            "COMET INFO:     ViveknSentimentModel-unimportantFeatureStep : 0.025\n",
            "COMET INFO:   Uploads:\n",
            "COMET INFO:     environment details : 1\n",
            "COMET INFO:     filename            : 1\n",
            "COMET INFO:     installed packages  : 1\n",
            "COMET INFO:     notebook            : 2\n",
            "COMET INFO:     os packages         : 1\n",
            "COMET INFO:     source_code         : 1\n",
            "COMET INFO: ---------------------------\n",
            "COMET INFO: Uploading metrics, params, and assets to Comet before program termination (may take several seconds)\n",
            "COMET INFO: The Python SDK has 3600 seconds to finish before aborting...\n",
            "COMET INFO: Waiting for completion of the file uploads (may take several seconds)\n",
            "COMET INFO: The Python SDK has 10800 seconds to finish before aborting...\n",
            "COMET INFO: All files uploaded, waiting for confirmation they have been all received\n",
            "Exception in thread Thread-42:\n",
            "Traceback (most recent call last):\n",
            "  File \"/usr/lib/python3.8/threading.py\", line 932, in _bootstrap_inner\n",
            "    self.run()\n",
            "  File \"/usr/lib/python3.8/threading.py\", line 870, in run\n",
            "    self._target(*self._args, **self._kwargs)\n",
            "  File \"/usr/local/lib/python3.8/dist-packages/sparknlp/logging/comet.py\", line 423, in _monitor_log_file\n",
            "    for line in watcher:\n",
            "  File \"/usr/local/lib/python3.8/dist-packages/sparknlp/logging/comet.py\", line 402, in _file_watcher\n",
            "    fp = open(filename)\n",
            "FileNotFoundError: [Errno 2] No such file or directory: './run/VIVEKN_8ac4c5e76848.log'\n"
          ]
        }
      ]
    },
    {
      "cell_type": "code",
      "source": [],
      "metadata": {
        "id": "kDr_t-dAtE7O"
      },
      "execution_count": null,
      "outputs": []
    }
  ]
}